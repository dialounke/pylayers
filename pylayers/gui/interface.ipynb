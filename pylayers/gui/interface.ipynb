{
 "cells": [
  {
   "cell_type": "markdown",
   "metadata": {
    "toc": "true"
   },
   "source": [
    "# Table of Contents\n",
    " <p>"
   ]
  },
  {
   "cell_type": "code",
   "execution_count": null,
   "metadata": {
    "ExecuteTime": {
     "end_time": "2016-06-29T16:54:45.797421",
     "start_time": "2016-06-29T16:54:45.781052"
    },
    "collapsed": false,
    "hide_input": false,
    "run_control": {
     "frozen": false,
     "read_only": false
    }
   },
   "outputs": [],
   "source": [
    "from IPython.display import HTML\n",
    "HTML('''<script>\n",
    "code_show=true; \n",
    "function code_toggle() {\n",
    " if (code_show){\n",
    " $('div.input').hide();\n",
    " } else {\n",
    " $('div.input').show();\n",
    " }\n",
    " code_show = !code_show\n",
    "} \n",
    "$( document ).ready(code_toggle);\n",
    "</script>''')"
   ]
  },
  {
   "cell_type": "code",
   "execution_count": null,
   "metadata": {
    "ExecuteTime": {
     "end_time": "2016-06-29T16:56:08.410232",
     "start_time": "2016-06-29T16:56:06.924417"
    },
    "collapsed": false,
    "hide_input": false,
    "run_control": {
     "frozen": false,
     "read_only": false
    }
   },
   "outputs": [],
   "source": [
    "################# IMPORTS \n",
    "###################################################\n",
    "import warnings\n",
    "warnings.filterwarnings('ignore')\n",
    "import ipywidgets as widgets\n",
    "from IPython.display import display,clear_output\n",
    "from pylayers.simul.link import *\n",
    "import copy\n",
    "import pylayers.util.geomutil as geu\n",
    "import os\n",
    "%gui wx\n",
    "%matplotlib inline\n",
    "\n",
    "def update_L(Lname):\n",
    "    \n",
    "#     from IPython.core.debugger import Tracer\n",
    "\n",
    "#     Tracer()()\n",
    "    DL.L=Layout(Lname)\n",
    "\n",
    "    xmin,xmax,ymin,ymax=DL.L.ax\n",
    "    zmax = DL.L.maxheight-0.1\n",
    "    tx=copy.copy(DL.a)\n",
    "    rx=copy.copy(DL.b)\n",
    "\n",
    "    \n",
    "    tx_x.min,tx_x.max=xmin,xmax\n",
    "    tx_y.min,tx_y.max=ymin,ymax\n",
    "    tx_z.max=zmax\n",
    "    tx_x.value=tx[0]\n",
    "    tx_y.value=tx[1]\n",
    "    tx_z.value=tx[2]\n",
    "    \n",
    "\n",
    "    rx_x.min,rx_x.max=xmin,xmax\n",
    "    rx_y.min,rx_y.max=ymin,ymax\n",
    "    rx_z.max=zmax\n",
    "    rx_x.value=rx[0]\n",
    "    rx_y.value=rx[1]\n",
    "    rx_z.value=rx[2]\n",
    "    \n",
    "################# FUNC def\n",
    "###################################################\n",
    "    \n",
    "def update_Aa(ant):\n",
    "    DL.Aa=Antenna(ant)\n",
    "def update_Ab(ant):\n",
    "    DL.Ab=Antenna(ant)\n",
    "    \n",
    "def update_a(x,y,z):\n",
    "    DL.a=np.array([x,y,z])\n",
    "def update_b(x,y,z):\n",
    "    DL.b=np.array([x,y,z])\n",
    "\n",
    "def update_Ta(alpha,beta,gamma):\n",
    "    T = geu.MEulerAngle(alpha,beta=beta,gamma=gamma)\n",
    "    DL.Ta=T\n",
    "def update_Tb(alpha,beta,gamma):\n",
    "    T = geu.MEulerAngle(alpha,beta=beta,gamma=gamma)\n",
    "    DL.Tb=T\n",
    "    \n",
    "def update_fGHz(fm,fM,fs):\n",
    "    DL.fGHz=np.linspace(fm,fM,fs)\n",
    "    \n",
    "def DLeval(*args):\n",
    "#     clear_output()\n",
    "    pbar = tqdm.tqdm_notebook(total=100)\n",
    "    DL.eval(verbose=False,\n",
    "            force=force.value,\n",
    "            cutoff=cutoff.value,\n",
    "            diffraction = diff.value,\n",
    "            ra_vectorized = vect.value,\n",
    "            ra_number_mirror_cf = mirror.value,\n",
    "            applywav = appwav.value,\n",
    "            progressbar=pbar)\n",
    "    DL.R._show3()\n",
    "    pbar.close()\n",
    "\n",
    "\n",
    "################# interface \n",
    "###################################################\n",
    "mlab.clf()\n",
    "DL=DLink()\n",
    "xmin,xmax,ymin,ymax=DL.L.ax\n",
    "zmax = DL.L.maxheight-0.1\n",
    "DL._show3()\n",
    "# page 1  LAy\n",
    "layout = widgets.Dropdown(description='File:',\n",
    "                          options=os.listdir(basename +'/struc/ini/'),\n",
    "                          value='defstr.ini',\n",
    "                          )\n",
    "\n",
    "layoutpage = widgets.Box(children=[layout])\n",
    "\n",
    "_=widgets.interactive(update_L,Lname=layout)\n",
    "\n",
    "\n",
    "# page 2 TX\n",
    "\n",
    "##### TX position\n",
    "tx_x = widgets.FloatSlider(description='x :',\n",
    "                           \n",
    "                           min=DL.L.ax[0],\n",
    "                           max=DL.L.ax[1],\n",
    "                           value=DL.a[0],\n",
    "                           step=0.1,\n",
    "                           padding=4)\n",
    "tx_y = widgets.FloatSlider(description='y :',\n",
    "                           min=DL.L.ax[2],\n",
    "                           max=DL.L.ax[3],\n",
    "                           value=DL.a[1],\n",
    "                           step=0.1,\n",
    "                           padding=4)\n",
    "tx_z = widgets.FloatSlider(description='z :',\n",
    "                           min=0.,\n",
    "                           max=zmax,\n",
    "                           value=DL.a[2],\n",
    "                           step=0.1,\n",
    "                           padding=4)\n",
    "\n",
    "\n",
    "\n",
    "tx_pos = widgets.Box(children=[tx_x, tx_y,tx_z])\n",
    "\n",
    "_=widgets.interactive(update_a,x=tx_x,y=tx_y,z=tx_z)\n",
    "\n",
    "\n",
    "###### TX antenna\n",
    "# ant default\n",
    "av_ant = ['Omni','Gauss']\n",
    "\n",
    "# ant file\n",
    "antext= ['vsh3','sh3']\n",
    "for fname in os.listdir(basename +'/ant'):\n",
    "    if fname.split('.')[-1] in antext:\n",
    "        av_ant.append(fname)\n",
    "\n",
    "tx_ant = widgets.Dropdown(description='File:', value='Omni',options=av_ant)\n",
    "\n",
    "\n",
    "#######TX Rotation\n",
    "\n",
    "gammaTX=widgets.FloatSlider(value=0,\n",
    "                         min=-np.pi,\n",
    "                          max=np.pi,\n",
    "                          step=np.pi/50,\n",
    "                        description='x-roll')\n",
    "\n",
    "\n",
    "betaTX=widgets.FloatSlider(value=0,\n",
    "                         min=-np.pi,\n",
    "                          max=np.pi,\n",
    "                          step=np.pi/50,\n",
    "                        description='y-roll')\n",
    "\n",
    "alphaTX=widgets.FloatSlider(value=0,\n",
    "                         min=-np.pi,\n",
    "                          max=np.pi,\n",
    "                          step=np.pi/50,\n",
    "                        description='z-roll')\n",
    "\n",
    "\n",
    "tx_rot = widgets.Box(children=[alphaTX,betaTX,gammaTX])\n",
    "\n",
    "tx_antbox = widgets.Box(children=[tx_ant,tx_rot])\n",
    "\n",
    "tx_postab = widgets.Tab(children=[tx_pos,tx_antbox])\n",
    "tx_postab.set_title(0, 'Position')\n",
    "tx_postab.set_title(1, 'Antenna')\n",
    "\n",
    "tx_page = widgets.Box(children=[tx_postab])\n",
    "\n",
    "\n",
    "_=widgets.interactive(update_Ta,alpha=alphaTX,beta=betaTX,gamma=gammaTX)\n",
    "_=widgets.interactive(update_Aa,ant=tx_ant)\n",
    "\n",
    "\n",
    "\n",
    "# page 2 RX\n",
    "\n",
    "\n",
    "\n",
    "rx_x = widgets.FloatSlider(description='x :',\n",
    "                           min=DL.L.ax[0],\n",
    "                           max=DL.L.ax[1],\n",
    "                           value=DL.b[0],\n",
    "                           step=0.1,\n",
    "                           padding=4)\n",
    "rx_y = widgets.FloatSlider(description='y :',\n",
    "                           min=DL.L.ax[2],\n",
    "                           max=DL.L.ax[3],\n",
    "                           value=DL.b[1],\n",
    "                           step=0.1,\n",
    "                           padding=4)\n",
    "rx_z = widgets.FloatSlider(description='z :',\n",
    "                           min=0.,\n",
    "                           max=zmax,\n",
    "                           value=DL.b[2],\n",
    "                           step=0.1,\n",
    "                           padding=4)\n",
    "\n",
    "\n",
    "rx_pos = widgets.Box(children=[rx_x, rx_y,rx_z])\n",
    "_=widgets.interactive(update_b,x=rx_x,y=rx_y,z=rx_z)\n",
    "\n",
    "\n",
    "\n",
    "rx_ant = widgets.Dropdown(description='File:', value='Omni',options=av_ant ,padding=12)\n",
    "\n",
    "#######RX Rotation\n",
    "\n",
    "\n",
    "gammaRX=widgets.FloatSlider(value=0,\n",
    "                         min=-np.pi,\n",
    "                          max=np.pi,\n",
    "                          step=np.pi/50,\n",
    "                        description='x-roll')\n",
    "\n",
    "\n",
    "betaRX=widgets.FloatSlider(value=0,\n",
    "                         min=-np.pi,\n",
    "                          max=np.pi,\n",
    "                          step=np.pi/50,\n",
    "                        description='y-roll')\n",
    "\n",
    "alphaRX=widgets.FloatSlider(value=0,\n",
    "                         min=-np.pi,\n",
    "                          max=np.pi,\n",
    "                          step=np.pi/50,\n",
    "                        description='z-roll')\n",
    "\n",
    "rx_rot = widgets.Box(children=[alphaRX,betaRX,gammaRX])\n",
    "\n",
    "rx_antbox = widgets.Box(children=[rx_ant,rx_rot])\n",
    "\n",
    "rx_postab = widgets.Tab(children=[rx_pos,rx_antbox])\n",
    "rx_postab.set_title(0, 'Position')\n",
    "rx_postab.set_title(1, 'Antenna')\n",
    "\n",
    "rx_page = widgets.Box(children=[rx_postab])\n",
    "\n",
    "\n",
    "_=widgets.interactive(update_Tb,alpha=alphaRX,beta=betaRX,gamma=gammaRX)\n",
    "_=widgets.interactive(update_Ab,ant=rx_ant)\n",
    "\n",
    "# page 3\n",
    "\n",
    "fm = widgets.FloatText(description='fGHz min', value=DL.fGHz[0],padding=12)\n",
    "fM = widgets.FloatText(description='fGHz max', value=DL.fGHz[-1],padding=12)\n",
    "fs = widgets.FloatText(description='fGHz step', value=.1,padding=12)\n",
    "\n",
    "\n",
    "param_page = widgets.Box(children=[fm,fM,fs])\n",
    "\n",
    "_=widgets.interactive(update_fGHz,fm=fm,fM=fM,fs=fs)\n",
    "\n",
    "\n",
    "\n",
    "\n",
    "\n",
    "###### page 4 adv param\n",
    "\n",
    "force = widgets.Checkbox(description='force',value=False)\n",
    "cutoff = widgets.IntText(description='Cutoff',value=DL.cutoff)\n",
    "diff = widgets.Checkbox(description='diffractions',value=True)\n",
    "vect = widgets.Checkbox(description='vect.rays',value=True)\n",
    "mirror = widgets.IntText(description='mirror',value=1)\n",
    "appwav = widgets.Checkbox(description='apply wavform',value=True)\n",
    "\n",
    "adv_param_page = widgets.Box(children=[force,cutoff,appwav,mirror,diff,vect],padding=100)\n",
    "\n",
    "\n",
    "tabs = widgets.Tab(children=[layoutpage,tx_page,rx_page,param_page,adv_param_page])\n",
    "tabs.set_title(0, 'Layout')\n",
    "tabs.set_title(1, 'Tx')\n",
    "tabs.set_title(2, 'Rx')\n",
    "tabs.set_title(3, 'Parameters')\n",
    "tabs.set_title(4, 'Advanced Parameters')\n",
    "\n",
    "\n",
    "# eval\n",
    "\n",
    "eval_button = widgets.Button(description='Eval')\n",
    "eval_button.on_click(DLeval)\n",
    "\n",
    "\n",
    "interface = widgets.Box(children=[tabs,eval_button])\n",
    "\n",
    "\n",
    "display(interface)\n",
    "\n"
   ]
  },
  {
   "cell_type": "code",
   "execution_count": null,
   "metadata": {
    "ExecuteTime": {
     "end_time": "2016-06-29T16:56:22.942964",
     "start_time": "2016-06-29T16:56:22.882178"
    },
    "collapsed": true
   },
   "outputs": [],
   "source": [
    "DL=DLink()"
   ]
  },
  {
   "cell_type": "code",
   "execution_count": null,
   "metadata": {
    "ExecuteTime": {
     "end_time": "2016-06-29T16:58:58.890533",
     "start_time": "2016-06-29T16:58:58.850129"
    },
    "collapsed": false,
    "hide_input": true,
    "run_control": {
     "frozen": false,
     "read_only": false
    }
   },
   "outputs": [],
   "source": [
    "DL.R.I.D.A"
   ]
  },
  {
   "cell_type": "code",
   "execution_count": null,
   "metadata": {
    "collapsed": true,
    "run_control": {
     "frozen": false,
     "read_only": false
    }
   },
   "outputs": [],
   "source": []
  }
 ],
 "metadata": {
  "kernelspec": {
   "display_name": "Python 2",
   "language": "python",
   "name": "python2"
  },
  "language_info": {
   "codemirror_mode": {
    "name": "ipython",
    "version": 2
   },
   "file_extension": ".py",
   "mimetype": "text/x-python",
   "name": "python",
   "nbconvert_exporter": "python",
   "pygments_lexer": "ipython2",
   "version": "2.7.11"
  },
  "latex_envs": {
   "bibliofile": "biblio.bib",
   "cite_by": "apalike",
   "current_citInitial": 1,
   "eqLabelWithNumbers": true,
   "eqNumInitial": 0
  },
  "nav_menu": {},
  "toc": {
   "navigate_menu": true,
   "number_sections": true,
   "sideBar": true,
   "threshold": 6,
   "toc_cell": true,
   "toc_section_display": "block",
   "toc_window_display": false
  },
  "widgets": {
   "state": {
    "000c0d0808d84c68927fe85fb4062e85": {
     "views": []
    },
    "0277f600fcd64ba79127c19b132525e7": {
     "views": []
    },
    "02b046f51c2d4304b016875da3c40118": {
     "views": []
    },
    "04507f4cbb9240bbb1635d5ec1fed625": {
     "views": []
    },
    "0543a18a72a140e2b8f633271a9384e1": {
     "views": []
    },
    "05db2c0892454dd9b346fa535024db1e": {
     "views": []
    },
    "077ad06b4d5d46098ce405140d464b13": {
     "views": []
    },
    "07f81a116a9742f79700417a98c1fe71": {
     "views": []
    },
    "0993c7737b2945e7a3703bb009c91e67": {
     "views": []
    },
    "0a31e56047a942fe9a7bac0ed7227672": {
     "views": []
    },
    "0b520c706c2d4c0dadff10fc62ea8690": {
     "views": []
    },
    "0ba7083d192d40318664dbd4b0e8dd6a": {
     "views": []
    },
    "0d470664ab4f45d4824eef2cb2467506": {
     "views": []
    },
    "0d4b73ad596241c7a63b2f9b431fc20d": {
     "views": []
    },
    "118b988be28549b78d45b2250507203d": {
     "views": []
    },
    "12a44f57f97f48ee8efd0a26473833e2": {
     "views": []
    },
    "146913d268a54342952265482b147d2f": {
     "views": []
    },
    "1500741a307546d8b7e95cdfea00f69b": {
     "views": []
    },
    "1571497742564f1e8f3ab66f1f4f8563": {
     "views": []
    },
    "16721633b3f54820809f1b001c4b7e8d": {
     "views": []
    },
    "16db550fdb1944e2ab97a08a25f8bfe1": {
     "views": []
    },
    "1731cffb19504b558a3833cf25d49472": {
     "views": []
    },
    "1962072fd0c644089c7ba0c656a985d6": {
     "views": []
    },
    "196a8ef7d2c748bd80d2235ed17e81a8": {
     "views": []
    },
    "1a810720d6564857b44bdcf9e179da0e": {
     "views": []
    },
    "1cbe9ef4987d4672815e92dee042330d": {
     "views": []
    },
    "1cf97adff0964113b850a775dd3b6817": {
     "views": []
    },
    "1ea61cb5a47e49218a54625b750c6d2a": {
     "views": []
    },
    "1f0636d50fb145ee9b9de3cb0e23f72a": {
     "views": []
    },
    "1fa9c1f15957487cbc8afa2ba4fddd87": {
     "views": []
    },
    "1fea6ffdf2474f939fd18bff638c78c5": {
     "views": []
    },
    "20d26fd3e615488ea8867d8121e7aef1": {
     "views": []
    },
    "2278245379f54e2eb6b8d9226a1a6374": {
     "views": []
    },
    "23999715158f4c019de7074c50a59c20": {
     "views": []
    },
    "24fa039338834a7cb6c25eb76e2c9f66": {
     "views": []
    },
    "28d282fa5bed42479d92bced56883801": {
     "views": []
    },
    "2bc53ddb56e84a9cb0fe7fb1920e73d5": {
     "views": []
    },
    "2be81f37b8e24dd7a9ccbdc58f3c3fc3": {
     "views": []
    },
    "2c0004577cc04547ac9db5d985f8d3ad": {
     "views": []
    },
    "2c68dd3e356e4648803eb47254398813": {
     "views": []
    },
    "2c7565fc86bc47d6bac4c18b6c63ee83": {
     "views": []
    },
    "2c93cd33a0bb4aa0ae6058783acc9f8d": {
     "views": []
    },
    "2e90f76445994e879495e0f1cc1deb33": {
     "views": []
    },
    "2f6c7278310d4f05bb1cb5e2a22c8b49": {
     "views": []
    },
    "302cd00a6be84d1198f80d0934e22300": {
     "views": []
    },
    "30418e99bbb04a8e82ad16130f4c875f": {
     "views": []
    },
    "30b3c775c8644a27933251fd8ef89e98": {
     "views": []
    },
    "30b5b4e68b03440bb7f894bd4ae59455": {
     "views": []
    },
    "35b822e3c72947e08180117cee41c82a": {
     "views": []
    },
    "38b04d68800f439c8bf0e70837aee061": {
     "views": []
    },
    "3903f70654de4e84ae71f7897a1ec5b9": {
     "views": []
    },
    "3c31d576c68e4276a4b1aaefeefa0926": {
     "views": []
    },
    "3c4f8f089fc94a1f8131a68a17e31d37": {
     "views": []
    },
    "3ddb21b361d2467c8df5800f65a9a39d": {
     "views": []
    },
    "41882e181ed04e95b88212b2cf4a189e": {
     "views": []
    },
    "419a5eed860a4d3f84f79e1a08e30338": {
     "views": []
    },
    "4686a1ca212449f58ebc461d2bef2c1d": {
     "views": []
    },
    "4829700380cd4c1b9d95af88c595a745": {
     "views": []
    },
    "4a55e91431044632aa27573b11f914b7": {
     "views": []
    },
    "4a8e643b7cb242ce9c85be2bda96f37b": {
     "views": []
    },
    "4b3978b2f90b4b79ab5885b18c31d8c9": {
     "views": []
    },
    "4b798bc274a540c29000117184c337de": {
     "views": []
    },
    "4b9652538aac4060b7cc8b9cfb7f679b": {
     "views": []
    },
    "4d697fc777db47adafe7d34b9d1e96a7": {
     "views": []
    },
    "53c0fafbd27a410e97a15aa1022aea68": {
     "views": []
    },
    "560bf2ad1dd34d1ba5a3dae11765d4c7": {
     "views": []
    },
    "56b052b202704b27b033b7e6d97b81ef": {
     "views": []
    },
    "57667f2fa4e243edbfaeecddb2078e40": {
     "views": []
    },
    "577f379ea46e4a16a3889f8d1a0467d0": {
     "views": []
    },
    "57c2f8cbbcab48de94a5ad1fdbc1ef1a": {
     "views": []
    },
    "58b34eff45004c6ab4829fd710f55698": {
     "views": []
    },
    "58bc2f46b1884496887ddbe43ccbef58": {
     "views": []
    },
    "5944c0bc1f2d4cee8a02d9923f0ae305": {
     "views": []
    },
    "5c56624b262740d4a195ac193de6138e": {
     "views": []
    },
    "5cff0146772a42c291a6975087fb896b": {
     "views": []
    },
    "615450894dd548d8ac3ebdafca83725d": {
     "views": []
    },
    "62936853db374549bfeafdd0c4569136": {
     "views": []
    },
    "650f7d1187494dbaa9b85af0e116069b": {
     "views": []
    },
    "6513b95b22fb42a6bd7269dcdbe1ced2": {
     "views": []
    },
    "65b31db0841840c3a9ce965c3af42271": {
     "views": []
    },
    "669bbd64dfc44d778a6cdf1286986341": {
     "views": []
    },
    "67d004b3d00248a2966c822cfe7a1649": {
     "views": []
    },
    "6acbf9f134994059b5f4d15303255bcc": {
     "views": []
    },
    "6b58426e0fe645dc82a58de67cfffce2": {
     "views": []
    },
    "6c11c89e30d946db9d4f023c8779e5b7": {
     "views": []
    },
    "6c29b791ea394533813c27c48506d778": {
     "views": []
    },
    "6f144e4ed6634d8994510d2e123a7d2b": {
     "views": []
    },
    "71b328744f004390a85829abc9a73868": {
     "views": []
    },
    "735928eb30774fd8974e636747a6851b": {
     "views": []
    },
    "739e8df479204eaaa3f0ec2780dc02cf": {
     "views": []
    },
    "74ad09d640434b1eaa07fd9deb1df4c0": {
     "views": []
    },
    "76da74daaaab4da79e68a47ea80ef750": {
     "views": []
    },
    "79426ac690b3438d9aa36700634a590a": {
     "views": []
    },
    "7a47b2cd2f6d49b6a23443195b28b7a6": {
     "views": []
    },
    "7aee31fb78844c01ac456e967c5113a8": {
     "views": []
    },
    "7ca2586bf9ac4022b2b3b4c8736ce4ed": {
     "views": []
    },
    "7d018aeceb994deba53ae1fc75ae5410": {
     "views": []
    },
    "7d3f697895174f1a9720fd5e7686a783": {
     "views": []
    },
    "806fbe70c89c4305a437a47e9d860460": {
     "views": []
    },
    "834ede242e0d47dd90b8761c36a4c1da": {
     "views": []
    },
    "8416e0b5749741059cb1f1e96d1142f2": {
     "views": []
    },
    "85b37f6e82c94b27b1a2b2deed228ec2": {
     "views": []
    },
    "877191395afe4bb0bcec3c387f883d49": {
     "views": []
    },
    "883e0eb94b2746019a058b798a2a36b0": {
     "views": []
    },
    "88c6708ffe9a40d3bb5b3f315982e3c9": {
     "views": []
    },
    "8e27551d8d654bbf9fa5fe54544f2c05": {
     "views": []
    },
    "8e43e9c750ab4a86bf81b9206e182f30": {
     "views": []
    },
    "8ec8445dd35d47a19dd7b34aefe3d357": {
     "views": []
    },
    "8f3bf3612cef4eca8cc99899cce0b6c0": {
     "views": []
    },
    "90786a8d4d7c47ed8affe14932166537": {
     "views": []
    },
    "913cb02618114d31af95a1405c89b728": {
     "views": []
    },
    "91ebe12b63c14bb593392308c476c308": {
     "views": [
      {
       "cell_index": 2
      }
     ]
    },
    "92a4b74002884304a106e4cdf570a6d4": {
     "views": []
    },
    "94729f439ca245208a62b0a7c4eff1f3": {
     "views": []
    },
    "95f87cb69e6a4526afaa158653db53d2": {
     "views": []
    },
    "97239d3d79da49e69ae34eebfcd0b321": {
     "views": []
    },
    "99e83d2530d540a9b23032f331206c06": {
     "views": []
    },
    "9be5371b60d1409dbaee1d778742af0c": {
     "views": []
    },
    "9e1eac4103ba48d2ba8a121f93281ced": {
     "views": []
    },
    "9f2f20167de24dd9846cd317a4b0193c": {
     "views": []
    },
    "9f55fdca09884af9acef67dc33e8d426": {
     "views": []
    },
    "a0f5f92385f24cb9a584b820bbe4b8bd": {
     "views": []
    },
    "a0ffe25087b74e33b26831bdde711b40": {
     "views": []
    },
    "a19bb999bd1a4b0490714cbb22e0c9df": {
     "views": []
    },
    "a1c1ed626ded48f998d48a19c19d795e": {
     "views": []
    },
    "a23844fc7a634202b0b456909879ac7d": {
     "views": []
    },
    "a3fcddbcd85343e39d27d97b31803e58": {
     "views": [
      {
       "cell_index": 2
      }
     ]
    },
    "a3fd43c6d6a2455f9d27bca590e86971": {
     "views": []
    },
    "a5063ff6ffbf4efdbb8813de3e4fe526": {
     "views": []
    },
    "a7e4da4039d34f11aaf07af1151683ea": {
     "views": []
    },
    "a8740338f3d54cda8db8660a855a28e7": {
     "views": []
    },
    "a8808f5ca0bd4853aba6cbd2cc631734": {
     "views": []
    },
    "a91a0daec85f418eae51d06514a41d5c": {
     "views": []
    },
    "ae5cfddba5f8490faa784d61f7f10a21": {
     "views": []
    },
    "ae960ac424ac432fabf01fd4b8d5ff19": {
     "views": []
    },
    "b087a0b12ad54771a1275a38c4e7edb2": {
     "views": []
    },
    "b572ff04ed534bffad2d7f90dd480206": {
     "views": []
    },
    "b8c4d16243ad47e8b1b28bc33e9f1ee1": {
     "views": []
    },
    "b905d6a37c5f485187371240e95ad97c": {
     "views": []
    },
    "b91791d312194c9fa66d6c8981f279e0": {
     "views": []
    },
    "bda035eab8c04c73b0e8ce529aa8d600": {
     "views": []
    },
    "bf2ed8244eae476fa7d3dfab63ce094a": {
     "views": []
    },
    "bfe694641c0041f68fbb17a1b4af184e": {
     "views": []
    },
    "c1c2d531f5d143019cc0a04973a6465d": {
     "views": []
    },
    "c2e869592e894b72a1a8fd23d59dfe6f": {
     "views": []
    },
    "c6b1f5b315f74834a992ddd3dc273127": {
     "views": []
    },
    "c8d55766a8084c6089db19b51b37e312": {
     "views": []
    },
    "c8fb1ed92f9c48ee981fa240366d398f": {
     "views": []
    },
    "c9277f686d2443f289f7a8d7e088bc00": {
     "views": []
    },
    "cae57527416f418281d0efee89ae4f24": {
     "views": []
    },
    "cbd5cc66c6b340dea74da06521329652": {
     "views": []
    },
    "ccc1ca6b7932432e84027b7f6c42fad9": {
     "views": []
    },
    "cfa6b700c67f4ca6b4d8e6a127c62650": {
     "views": []
    },
    "cfeb7e8aa0fc433eb9cfc010f30ec63d": {
     "views": []
    },
    "d19790b4a8f648feadaa4d311b9a9b72": {
     "views": []
    },
    "d49388110b304429b898884a9e518f02": {
     "views": []
    },
    "d55dd4d1f8e041a588ae2d65675fe58b": {
     "views": []
    },
    "d7d836c3b62d4acb8a609966facd6bad": {
     "views": []
    },
    "d8154fc0504c404e8387538856ea8691": {
     "views": []
    },
    "d8e7e4b5c3314100ad8f1599cc2ae550": {
     "views": []
    },
    "db9e8e5eaee14fe3ab19815adb2d1fc4": {
     "views": []
    },
    "dbdb70a995454b23a62ad45f300ba086": {
     "views": []
    },
    "dcdbaf4cb378423a9003f505c1309d69": {
     "views": []
    },
    "dd9c41722f2f4d47ada5f7f0369b52e7": {
     "views": []
    },
    "ddceeb4550b0410b97fd010fee709bc4": {
     "views": []
    },
    "de1833c6073f4957a81a11d10d72e99a": {
     "views": []
    },
    "df7bd0adb69c4d0b8c1c7ab6eabf268c": {
     "views": []
    },
    "e064019bc8b04e37ac10f3553d47466f": {
     "views": []
    },
    "e2130cd7f62c4f10a61194f5ec86f53e": {
     "views": []
    },
    "e2e5d01a8fee4e3c9ab7116936f44737": {
     "views": []
    },
    "e373fb06e8504e64b6fdc1f489f40800": {
     "views": []
    },
    "e585c7db90104ffeb55da2ec3894cd34": {
     "views": []
    },
    "e5942ef7e8484bbc8f81331cacdf5975": {
     "views": []
    },
    "e8843282c4e649e4bb854cd90fc9c1d0": {
     "views": []
    },
    "e8e9fee3455d47aa968482ecd38593d1": {
     "views": []
    },
    "e94515a1b1034fc1a3daa093dc8c6d47": {
     "views": []
    },
    "e9681b937a2c47928aa50e95419959f2": {
     "views": []
    },
    "ea14217f8f7d42f2be87817f1911bcc2": {
     "views": []
    },
    "eac56559533541d999eb1eceb152b38f": {
     "views": []
    },
    "eb1b8c6b061a4ec4a54e8265b622c402": {
     "views": []
    },
    "ec61b51274a34802a63ee074ec334d85": {
     "views": []
    },
    "ec9ebdf6c266493681adab80d056ae92": {
     "views": []
    },
    "ede43f659e8a4681bb321ed1de876ad0": {
     "views": []
    },
    "f0c743327fa248f3961cb808e8af39f8": {
     "views": []
    },
    "f0e3d6179bad4e6997b101d0bce9e9e6": {
     "views": []
    },
    "f0f2c2941b1b48fbb710a4b2bfbdcd40": {
     "views": []
    },
    "f27b739e9dea4587a325dac4c47b5cfa": {
     "views": []
    },
    "f2ef54de695248f482ed46ea0fd252bf": {
     "views": []
    },
    "f2fb763f8e7c4f20921e13854e037f67": {
     "views": []
    },
    "f386e7f17d584986b29aa9c5c2ab455a": {
     "views": []
    },
    "f3c26cb07e2c4fed8f945078b9a05c60": {
     "views": []
    },
    "f69d60cef95a4d9ea329ac049089a5bc": {
     "views": []
    },
    "f6cae833a4424f148ccb4733e4670ff1": {
     "views": []
    },
    "f6d6e76d374d4e36bb9d7c3a6e49df93": {
     "views": []
    },
    "f7b3b5040bdb44d6bf113b413ef2e19c": {
     "views": []
    },
    "f8596fcb13674a7087bd896bdca0ae38": {
     "views": []
    },
    "f9561e4c3bd04cefa6b3951aa431438b": {
     "views": []
    },
    "fefb2e3828bb4922a0825b09ca4dc2ea": {
     "views": []
    }
   },
   "version": "1.1.2"
  }
 },
 "nbformat": 4,
 "nbformat_minor": 0
}
