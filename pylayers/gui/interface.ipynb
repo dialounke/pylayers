{
 "cells": [
  {
   "cell_type": "markdown",
   "metadata": {
    "toc": "true"
   },
   "source": [
    "# Table of Contents\n",
    " <p>"
   ]
  },
  {
   "cell_type": "code",
   "execution_count": 1,
   "metadata": {
    "ExecuteTime": {
     "end_time": "2016-07-04T11:20:19.805907",
     "start_time": "2016-07-04T11:20:19.783331"
    },
    "collapsed": true,
    "hide_input": true,
    "run_control": {
     "frozen": false,
     "read_only": true
    }
   },
   "outputs": [
    {
     "data": {
      "text/html": [
       "<script>\n",
       "code_show=true; \n",
       "function code_toggle() {\n",
       " if (code_show){\n",
       " $('div.input').hide();\n",
       " } else {\n",
       " $('div.input').show();\n",
       " }\n",
       " code_show = !code_show\n",
       "} \n",
       "$( document ).ready(code_toggle);\n",
       "</script>"
      ],
      "text/plain": [
       "<IPython.core.display.HTML object>"
      ]
     },
     "execution_count": 1,
     "metadata": {},
     "output_type": "execute_result"
    }
   ],
   "source": [
    "from IPython.display import HTML\n",
    "HTML('''<script>\n",
    "code_show=true; \n",
    "function code_toggle() {\n",
    " if (code_show){\n",
    " $('div.input').hide();\n",
    " } else {\n",
    " $('div.input').show();\n",
    " }\n",
    " code_show = !code_show\n",
    "} \n",
    "$( document ).ready(code_toggle);\n",
    "</script>''')"
   ]
  },
  {
   "cell_type": "code",
   "execution_count": 1,
   "metadata": {
    "ExecuteTime": {
     "end_time": "2016-07-04T11:20:25.562741",
     "start_time": "2016-07-04T11:20:19.916992"
    },
    "collapsed": false,
    "hide_input": true,
    "run_control": {
     "frozen": false,
     "read_only": false
    }
   },
   "outputs": [
    {
     "name": "stdout",
     "output_type": "stream",
     "text": [
      "\n"
     ]
    }
   ],
   "source": [
    "################# IMPORTS \n",
    "###################################################\n",
    "import warnings\n",
    "warnings.filterwarnings('ignore')\n",
    "import ipywidgets as widgets\n",
    "from IPython.display import display,clear_output\n",
    "from pylayers.simul.link import *\n",
    "import copy\n",
    "import pylayers.util.geomutil as geu\n",
    "import os\n",
    "%matplotlib inline\n",
    "%gui wx\n",
    "\n",
    "def update_L(Lname):\n",
    "    \n",
    "#     from IPython.core.debugger import Tracer\n",
    "\n",
    "#     Tracer()()\n",
    "    DL.L=Layout(Lname)\n",
    "\n",
    "    xmin,xmax,ymin,ymax=DL.L.ax\n",
    "    zmax = DL.L.maxheight-0.1\n",
    "    tx=copy.copy(DL.a)\n",
    "    rx=copy.copy(DL.b)\n",
    "\n",
    "    \n",
    "    tx_x.min,tx_x.max=xmin,xmax\n",
    "    tx_y.min,tx_y.max=ymin,ymax\n",
    "    tx_z.max=zmax\n",
    "    tx_x.value=tx[0]\n",
    "    tx_y.value=tx[1]\n",
    "    tx_z.value=tx[2]\n",
    "    \n",
    "\n",
    "    rx_x.min,rx_x.max=xmin,xmax\n",
    "    rx_y.min,rx_y.max=ymin,ymax\n",
    "    rx_z.max=zmax\n",
    "    rx_x.value=rx[0]\n",
    "    rx_y.value=rx[1]\n",
    "    rx_z.value=rx[2]\n",
    "    \n",
    "################# FUNC def\n",
    "###################################################\n",
    "    \n",
    "def update_Aa(ant):\n",
    "    DL.Aa=Antenna(ant)\n",
    "def update_Ab(ant):\n",
    "    DL.Ab=Antenna(ant)\n",
    "    \n",
    "def update_a(x,y,z):\n",
    "    DL.a=np.array([x,y,z])\n",
    "def update_b(x,y,z):\n",
    "    DL.b=np.array([x,y,z])\n",
    "\n",
    "def update_Ta(alpha,beta,gamma):\n",
    "    T = geu.MEulerAngle(alpha,beta=beta,gamma=gamma)\n",
    "    DL.Ta=T\n",
    "def update_Tb(alpha,beta,gamma):\n",
    "    T = geu.MEulerAngle(alpha,beta=beta,gamma=gamma)\n",
    "    DL.Tb=T\n",
    "    \n",
    "def update_fGHz(fm,fM,fs):\n",
    "    DL.fGHz=np.linspace(fm,fM,fs)\n",
    "    \n",
    "def DLeval(*args):\n",
    "#     clear_output()\n",
    "    pbar = tqdm.tqdm_notebook(total=100)\n",
    "    DL.eval(verbose=False,\n",
    "            force=force.value,\n",
    "            cutoff=cutoff.value,\n",
    "            diffraction = diff.value,\n",
    "            ra_vectorized = vect.value,\n",
    "            ra_number_mirror_cf = mirror.value,\n",
    "            applywav = appwav.value,\n",
    "            progressbar=pbar)\n",
    "    DL.R._show3()\n",
    "    pbar.close()\n",
    "\n",
    "\n",
    "################# interface \n",
    "###################################################\n",
    "mlab.clf()\n",
    "DL=DLink()\n",
    "xmin,xmax,ymin,ymax=DL.L.ax\n",
    "zmax = DL.L.maxheight-0.1\n",
    "DL._show3()\n",
    "# page 1  LAy\n",
    "layout = widgets.Dropdown(description='File:',\n",
    "                          options=os.listdir(basename +'/struc/ini/'),\n",
    "                          value='defstr.ini',\n",
    "                          )\n",
    "\n",
    "layoutpage = widgets.Box(children=[layout])\n",
    "\n",
    "_=widgets.interactive(update_L,Lname=layout)\n",
    "\n",
    "\n",
    "# page 2 TX\n",
    "\n",
    "##### TX position\n",
    "tx_x = widgets.FloatSlider(description='x :',\n",
    "                           \n",
    "                           min=DL.L.ax[0],\n",
    "                           max=DL.L.ax[1],\n",
    "                           value=DL.a[0],\n",
    "                           step=0.1,\n",
    "                           padding=4)\n",
    "tx_y = widgets.FloatSlider(description='y :',\n",
    "                           min=DL.L.ax[2],\n",
    "                           max=DL.L.ax[3],\n",
    "                           value=DL.a[1],\n",
    "                           step=0.1,\n",
    "                           padding=4)\n",
    "tx_z = widgets.FloatSlider(description='z :',\n",
    "                           min=0.,\n",
    "                           max=zmax,\n",
    "                           value=DL.a[2],\n",
    "                           step=0.1,\n",
    "                           padding=4)\n",
    "\n",
    "\n",
    "\n",
    "tx_pos = widgets.Box(children=[tx_x, tx_y,tx_z])\n",
    "\n",
    "_=widgets.interactive(update_a,x=tx_x,y=tx_y,z=tx_z)\n",
    "\n",
    "\n",
    "###### TX antenna\n",
    "# ant default\n",
    "av_ant = ['Omni','Gauss']\n",
    "\n",
    "# ant file\n",
    "antext= ['vsh3','sh3']\n",
    "for fname in os.listdir(basename +'/ant'):\n",
    "    if fname.split('.')[-1] in antext:\n",
    "        av_ant.append(fname)\n",
    "\n",
    "tx_ant = widgets.Dropdown(description='File:', value='Omni',options=av_ant)\n",
    "\n",
    "\n",
    "#######TX Rotation\n",
    "\n",
    "gammaTX=widgets.FloatSlider(value=0,\n",
    "                         min=-np.pi,\n",
    "                          max=np.pi,\n",
    "                          step=np.pi/50,\n",
    "                        description='x-roll')\n",
    "\n",
    "\n",
    "betaTX=widgets.FloatSlider(value=0,\n",
    "                         min=-np.pi,\n",
    "                          max=np.pi,\n",
    "                          step=np.pi/50,\n",
    "                        description='y-roll')\n",
    "\n",
    "alphaTX=widgets.FloatSlider(value=0,\n",
    "                         min=-np.pi,\n",
    "                          max=np.pi,\n",
    "                          step=np.pi/50,\n",
    "                        description='z-roll')\n",
    "\n",
    "\n",
    "tx_rot = widgets.Box(children=[alphaTX,betaTX,gammaTX])\n",
    "\n",
    "tx_antbox = widgets.Box(children=[tx_ant,tx_rot])\n",
    "\n",
    "tx_postab = widgets.Tab(children=[tx_pos,tx_antbox])\n",
    "tx_postab.set_title(0, 'Position')\n",
    "tx_postab.set_title(1, 'Antenna')\n",
    "\n",
    "tx_page = widgets.Box(children=[tx_postab])\n",
    "\n",
    "\n",
    "_=widgets.interactive(update_Ta,alpha=alphaTX,beta=betaTX,gamma=gammaTX)\n",
    "_=widgets.interactive(update_Aa,ant=tx_ant)\n",
    "\n",
    "\n",
    "\n",
    "# page 2 RX\n",
    "\n",
    "\n",
    "\n",
    "rx_x = widgets.FloatSlider(description='x :',\n",
    "                           min=DL.L.ax[0],\n",
    "                           max=DL.L.ax[1],\n",
    "                           value=DL.b[0],\n",
    "                           step=0.1,\n",
    "                           padding=4)\n",
    "rx_y = widgets.FloatSlider(description='y :',\n",
    "                           min=DL.L.ax[2],\n",
    "                           max=DL.L.ax[3],\n",
    "                           value=DL.b[1],\n",
    "                           step=0.1,\n",
    "                           padding=4)\n",
    "rx_z = widgets.FloatSlider(description='z :',\n",
    "                           min=0.,\n",
    "                           max=zmax,\n",
    "                           value=DL.b[2],\n",
    "                           step=0.1,\n",
    "                           padding=4)\n",
    "\n",
    "\n",
    "rx_pos = widgets.Box(children=[rx_x, rx_y,rx_z])\n",
    "_=widgets.interactive(update_b,x=rx_x,y=rx_y,z=rx_z)\n",
    "\n",
    "\n",
    "\n",
    "rx_ant = widgets.Dropdown(description='File:', value='Omni',options=av_ant ,padding=12)\n",
    "\n",
    "#######RX Rotation\n",
    "\n",
    "\n",
    "gammaRX=widgets.FloatSlider(value=0,\n",
    "                         min=-np.pi,\n",
    "                          max=np.pi,\n",
    "                          step=np.pi/50,\n",
    "                        description='x-roll')\n",
    "\n",
    "\n",
    "betaRX=widgets.FloatSlider(value=0,\n",
    "                         min=-np.pi,\n",
    "                          max=np.pi,\n",
    "                          step=np.pi/50,\n",
    "                        description='y-roll')\n",
    "\n",
    "alphaRX=widgets.FloatSlider(value=0,\n",
    "                         min=-np.pi,\n",
    "                          max=np.pi,\n",
    "                          step=np.pi/50,\n",
    "                        description='z-roll')\n",
    "\n",
    "rx_rot = widgets.Box(children=[alphaRX,betaRX,gammaRX])\n",
    "\n",
    "rx_antbox = widgets.Box(children=[rx_ant,rx_rot])\n",
    "\n",
    "rx_postab = widgets.Tab(children=[rx_pos,rx_antbox])\n",
    "rx_postab.set_title(0, 'Position')\n",
    "rx_postab.set_title(1, 'Antenna')\n",
    "\n",
    "rx_page = widgets.Box(children=[rx_postab])\n",
    "\n",
    "\n",
    "_=widgets.interactive(update_Tb,alpha=alphaRX,beta=betaRX,gamma=gammaRX)\n",
    "_=widgets.interactive(update_Ab,ant=rx_ant)\n",
    "\n",
    "# page 3\n",
    "\n",
    "fm = widgets.FloatText(description='fGHz min', value=DL.fGHz[0],padding=12)\n",
    "fM = widgets.FloatText(description='fGHz max', value=DL.fGHz[-1],padding=12)\n",
    "fs = widgets.FloatText(description='fGHz step', value=.1,padding=12)\n",
    "\n",
    "\n",
    "param_page = widgets.Box(children=[fm,fM,fs])\n",
    "\n",
    "_=widgets.interactive(update_fGHz,fm=fm,fM=fM,fs=fs)\n",
    "\n",
    "\n",
    "\n",
    "\n",
    "\n",
    "###### page 4 adv param\n",
    "\n",
    "force = widgets.Checkbox(description='force',value=False)\n",
    "cutoff = widgets.IntText(description='Cutoff',value=DL.cutoff)\n",
    "diff = widgets.Checkbox(description='diffractions',value=True)\n",
    "vect = widgets.Checkbox(description='vect.rays',value=True)\n",
    "mirror = widgets.IntText(description='mirror',value=1)\n",
    "appwav = widgets.Checkbox(description='apply wavform',value=True)\n",
    "\n",
    "adv_param_page = widgets.Box(children=[force,cutoff,appwav,mirror,diff,vect],padding=100)\n",
    "\n",
    "\n",
    "tabs = widgets.Tab(children=[layoutpage,tx_page,rx_page,param_page,adv_param_page])\n",
    "tabs.set_title(0, 'Layout')\n",
    "tabs.set_title(1, 'Tx')\n",
    "tabs.set_title(2, 'Rx')\n",
    "tabs.set_title(3, 'Parameters')\n",
    "tabs.set_title(4, 'Advanced Parameters')\n",
    "\n",
    "\n",
    "# eval\n",
    "\n",
    "eval_button = widgets.Button(description='Eval')\n",
    "eval_button.on_click(DLeval)\n",
    "\n",
    "\n",
    "interface = widgets.Box(children=[tabs,eval_button])\n",
    "\n",
    "\n",
    "display(interface)\n",
    "\n"
   ]
  },
  {
   "cell_type": "code",
   "execution_count": null,
   "metadata": {
    "collapsed": true,
    "hide_input": true
   },
   "outputs": [],
   "source": []
  }
 ],
 "metadata": {
  "hide_input": false,
  "kernelspec": {
   "display_name": "Python 2",
   "language": "python",
   "name": "python2"
  },
  "language_info": {
   "codemirror_mode": {
    "name": "ipython",
    "version": 2
   },
   "file_extension": ".py",
   "mimetype": "text/x-python",
   "name": "python",
   "nbconvert_exporter": "python",
   "pygments_lexer": "ipython2",
   "version": "2.7.10"
  },
  "latex_envs": {
   "bibliofile": "biblio.bib",
   "cite_by": "apalike",
   "current_citInitial": 1,
   "eqLabelWithNumbers": true,
   "eqNumInitial": 0
  },
  "nav_menu": {},
  "toc": {
   "navigate_menu": true,
   "number_sections": true,
   "sideBar": true,
   "threshold": 6,
   "toc_cell": true,
   "toc_section_display": "block",
   "toc_window_display": false
  },
  "widgets": {
   "state": {
    "028a9796648e4ef8bba10a5546daeecd": {
     "views": []
    },
    "04859116f2014c9b8e435a9112068a25": {
     "views": []
    },
    "06595e743d404343aae1439d28b49da4": {
     "views": []
    },
    "0d6a20284752467cb98c78263d8b9f43": {
     "views": []
    },
    "0e47ec31e83f410ea61d30cf08cb4027": {
     "views": []
    },
    "10b09a8f665f404fb455297203f26edc": {
     "views": []
    },
    "1119d8202a264090b5fc387f99701cbd": {
     "views": []
    },
    "120ff804d36248d2b43be8de01d3a9e3": {
     "views": []
    },
    "12ce1eff0b834e0eb439ab6583eadf84": {
     "views": []
    },
    "14beaf8a54984745a894324791d82534": {
     "views": []
    },
    "18d0a7c95e8b43128ae645f53ed48f44": {
     "views": []
    },
    "19308381af5448e3891b10b13d0f55e2": {
     "views": []
    },
    "1c17925846e54b8dad23dba881715c71": {
     "views": []
    },
    "1d430eb092834c338cfacdf9e8a87997": {
     "views": []
    },
    "1dd548e61cd84648b67d7c0e53f81104": {
     "views": []
    },
    "21cb8e528b564267b06510bfb95e1164": {
     "views": []
    },
    "220e7a06d62747cb924a9257d2552295": {
     "views": []
    },
    "262a142b876145bd89d364dc42823620": {
     "views": []
    },
    "310e56af26934627b9845f1b35b7aef0": {
     "views": []
    },
    "3112b6bf20274fa484cfcf023da2856c": {
     "views": []
    },
    "383cfeea4247419e9b09b764b7a6646a": {
     "views": []
    },
    "386409e012f64deda14b5b437408fb55": {
     "views": []
    },
    "39ed3dbc3c2347318701eb31a9061e2b": {
     "views": []
    },
    "3a6a1790aa8444219c8ea113e41a0761": {
     "views": []
    },
    "40af7500249f43adb9c64785e527d58e": {
     "views": []
    },
    "43013194ee804034b49ac438b5530662": {
     "views": []
    },
    "443f7c6857804c33a172463a558bc01d": {
     "views": []
    },
    "44759b3780d04f529f4765128c568ff3": {
     "views": []
    },
    "44f5004e476d4466a6397388ebe7915d": {
     "views": []
    },
    "4643fa8eeae04aa7a7f84080b37a061a": {
     "views": []
    },
    "475850bcb4c54158b5864f8fe583329b": {
     "views": []
    },
    "47650abbcd6e49f88a867d2626073811": {
     "views": []
    },
    "489c8bda3cf04f20ab8003ff31c67ef8": {
     "views": []
    },
    "4c5b2628b7814177b84c653a7d7f20e3": {
     "views": []
    },
    "4eb9cfde0b5c43f0bf7e7944a50d5857": {
     "views": [
      {
       "cell_index": 2
      }
     ]
    },
    "54e555df826e459f87d72568763db2ea": {
     "views": []
    },
    "564c1a4561814a11bf3c2d716c37a4a3": {
     "views": []
    },
    "56bbaaf585dd47329adc2b467c62b7f5": {
     "views": [
      {
       "cell_index": 2
      }
     ]
    },
    "575b1f690f084428a4c80697788a8699": {
     "views": []
    },
    "5a5eb2ae4ae64cd2b549e2cc900aae7f": {
     "views": []
    },
    "5d8e6ee248fb4f19a2d59d0374bb423a": {
     "views": []
    },
    "5e700c265ed84d9f8c66f02708399f14": {
     "views": []
    },
    "6527b912d26544f986596f0b1ba6ef8e": {
     "views": []
    },
    "6a8bcc118e8d41e08e069ad3fa5d63da": {
     "views": []
    },
    "6b0f1d3053094d1fbceba73e143cffbc": {
     "views": []
    },
    "6f710095c58147379026133f2beb1738": {
     "views": []
    },
    "7144bff94bf74b99a7968ea6b066de3a": {
     "views": []
    },
    "7164cb0b4c1044e6985bc00e04b892bd": {
     "views": []
    },
    "74e9fd05d71d4ff29d1046d45bada3dd": {
     "views": []
    },
    "7ba10ec37c824224b95c03f308c60aba": {
     "views": []
    },
    "7d613a57c1584c42a69495aa32d9acde": {
     "views": []
    },
    "7e9fa4b0bffd4882ae5aa7ed255d2e23": {
     "views": []
    },
    "7f1bc8267ba544bfac68d57fd95120dd": {
     "views": []
    },
    "7f98de2d15494e33918e4488101ac6bf": {
     "views": []
    },
    "7fa9452130ea4816b0ffb608e09c2911": {
     "views": []
    },
    "80be07597409400cb6ba2940d65850f3": {
     "views": []
    },
    "813e1c915fae4ebc9fe225d80be06239": {
     "views": []
    },
    "82ba1e51d5ea49e5bfe5eebed1d1a3f7": {
     "views": []
    },
    "8489d301797748379b5abb2998b855d0": {
     "views": []
    },
    "8872f0e0efba47adbd01b14efc4bf4f9": {
     "views": []
    },
    "8d5ab448a6d14874b9836ad0c179bc1f": {
     "views": []
    },
    "91f2e681b99842069f01ac7129dc6ae9": {
     "views": []
    },
    "9224d09fc58f4957bceeb7fb10b00797": {
     "views": []
    },
    "9533f6b4905942c296ee1594a5b3bf0b": {
     "views": []
    },
    "965e20173ddd47078bd85917e81adf6a": {
     "views": []
    },
    "983d425c787745ad96e7bff3f0f6d408": {
     "views": []
    },
    "9e0abfeb8f1047f285cc7ed6d5f21775": {
     "views": []
    },
    "9e5dd8ae530a4ecdae2a01cb30146a56": {
     "views": []
    },
    "9f9216edcf1c4eaaa9362eb329485616": {
     "views": []
    },
    "a00a34c329ed4e89ac29f300a79a43d5": {
     "views": []
    },
    "a6bad169c7c44911861a8c1d4865f335": {
     "views": []
    },
    "a983bf3bb2074be1a7cd2848226b79d7": {
     "views": []
    },
    "aa051d410bac4b7f88a1e530640e6d37": {
     "views": []
    },
    "ad90a5be84514ce7b4eff3d2cef5b319": {
     "views": []
    },
    "ae83b767719f4abe8960d33e905ebc8f": {
     "views": []
    },
    "aff4898bc0f740efb8939572a9fef9fd": {
     "views": []
    },
    "b0717240900f47c2afa78e83b09c895c": {
     "views": []
    },
    "b7111f483cfd4e80a0a6a1d873ce0032": {
     "views": []
    },
    "b8644f547a9b43358e08e6a2239b2aa5": {
     "views": []
    },
    "bc0fbd488e9c40759199e2a95fdd6a69": {
     "views": []
    },
    "bd6b3b17ce114ab98a2a8edf2b5e3065": {
     "views": []
    },
    "beb1b63a7c7d447d8cefaed3483d0152": {
     "views": []
    },
    "bf6216111a264442a785ea1126438c1d": {
     "views": []
    },
    "c22ee2b328e847779065e14d16a8d308": {
     "views": []
    },
    "c476463eab5e4835acd911f758a5d2ec": {
     "views": []
    },
    "c4ecccc623a641748f81029e62b95a0d": {
     "views": []
    },
    "c5099643830a42779585b3a7255fcc45": {
     "views": []
    },
    "cb4c713685914e47bcce4dfc66139aff": {
     "views": []
    },
    "cb6d114e0fa74e3ebd14525fa8e16aa3": {
     "views": []
    },
    "cbdc8cfdfbbd4fda94fb7eb786ca2ec6": {
     "views": []
    },
    "cd94e44c883c485baa2019b377cc6e97": {
     "views": []
    },
    "da2a3c9dc38040bcbc5e49222e21361e": {
     "views": []
    },
    "db523e5fde404f5db9352905c129048b": {
     "views": []
    },
    "e565eb47b46e4da49738efd0bc53b1c4": {
     "views": []
    },
    "e9df676b749e4c3b9ef8b3f482072de8": {
     "views": []
    },
    "ec534bbaaa954a5898795b6607f9c428": {
     "views": []
    },
    "ef6387d94bd04674a0b9cb4d2f7b863a": {
     "views": []
    },
    "f4582e04f86b4a0f8208b33290be599e": {
     "views": []
    },
    "f9bd3808e7794afb84877b2341fd12b5": {
     "views": []
    },
    "fa2f3c6ce4c347c9985e9bdca2e79680": {
     "views": []
    },
    "fc02191f257a4f1d97d4c7c98dbf90c5": {
     "views": []
    },
    "fcc8f4aba5c543d89d700ca8dd25f56a": {
     "views": []
    }
   },
   "version": "1.1.2"
  }
 },
 "nbformat": 4,
 "nbformat_minor": 0
}
