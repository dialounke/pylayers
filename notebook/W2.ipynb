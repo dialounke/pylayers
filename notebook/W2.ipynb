{
 "cells": [
  {
   "cell_type": "markdown",
   "metadata": {},
   "source": [
    "# Interactive session illustrating UWB Ray Tracing Simulation\n",
    " \n",
    "A set of UWB simulations has been performed in the environement of SIRADEL. \n",
    "This section describes some available features of the developped tool.  "
   ]
  },
  {
   "cell_type": "code",
   "execution_count": 1,
   "metadata": {
    "collapsed": false
   },
   "outputs": [
    {
     "name": "stderr",
     "output_type": "stream",
     "text": [
      "WARNING:traits.has_traits:DEPRECATED: traits.has_traits.wrapped_class, 'the 'implements' class advisor has been deprecated. Use the 'provides' class decorator.\n"
     ]
    },
    {
     "name": "stdout",
     "output_type": "stream",
     "text": [
      "Warning : OSM Parser seems to be not installed\n"
     ]
    }
   ],
   "source": [
    "import os \n",
    "import sys\n",
    "from pylayers.simul.simulem import *\n",
    "# Transmitter index\n",
    "itx = 1\n",
    "# Receiver index\n",
    "irx = 150"
   ]
  },
  {
   "cell_type": "markdown",
   "metadata": {},
   "source": [
    "## 1 Starting the simulation \n",
    "\n",
    "The simulation is loaded by reading a configuration file which contains all the required informations about the simulation \n",
    "parameters as well as the name of the data file which has already been simulated.  \n",
    "\n",
    "The simulation is as follow :   \n",
    "\n",
    "    [files]\n",
    "    at = simul9.mat\n",
    "    tx = w2tx.ini\n",
    "    slab = simul9.slab\n",
    "    txant = defant.vsh3\n",
    "    rx = w2rx.ini\n",
    "    patra = simul9.patra\n",
    "    conf = $HOME/Pyproject/project.conf\n",
    "    palch = simul9.palch\n",
    "    struc = Lstruc.str\n",
    "    rxant = defant.vsh3\n",
    "\n",
    "    [tracing]\n",
    "    maxdeep = 10\n",
    "    distdiff = 5.0\n",
    "    var2d3d = 1\n",
    "\n",
    "    [waveform]\n",
    "    tw = 30\n",
    "    band = 0.499\n",
    "    fc = 4.493\n",
    "    thresh = 3\n",
    "    fe = 50\n",
    "    type = generic\n",
    "\n",
    "    [frequency]\n",
    "    fmax = 11\n",
    "    nf = 181\n",
    "    fmin = 2"
   ]
  },
  {
   "cell_type": "code",
   "execution_count": null,
   "metadata": {
    "collapsed": true
   },
   "outputs": [],
   "source": [
    "S =  Simul()\n",
    "S.load('where2.ini')\n",
    "\n"
   ]
  },
  {
   "cell_type": "markdown",
   "metadata": {},
   "source": [
    "### List of Tx points\n",
    "\n",
    "51 Tx points have been defined. The coordinates list is as follows "
   ]
  },
  {
   "cell_type": "code",
   "execution_count": null,
   "metadata": {
    "collapsed": false
   },
   "outputs": [],
   "source": [
    "for ipt in S.tx.points.keys():\n",
    "    print 'Tx'+str(ipt)+ ' :',S.tx.points[ipt] "
   ]
  },
  {
   "cell_type": "markdown",
   "metadata": {},
   "source": [
    "## List of Rx points  \n",
    "\n",
    "343 Rx points have been defined. The coordinates list is has follows : "
   ]
  },
  {
   "cell_type": "code",
   "execution_count": null,
   "metadata": {
    "collapsed": true
   },
   "outputs": [],
   "source": [
    "#for ipt in S.rx.points.keys():\n",
    "#    pass\n",
    "#print 'Rx'+str(ipt)+ ' :',S.rx.points[ipt] "
   ]
  },
  {
   "cell_type": "markdown",
   "metadata": {},
   "source": [
    "The distibution of those points can be shown using the show method of the Simulation object"
   ]
  },
  {
   "cell_type": "code",
   "execution_count": null,
   "metadata": {
    "collapsed": false
   },
   "outputs": [],
   "source": [
    "figsize(10,10)\n",
    "S.show()"
   ]
  },
  {
   "cell_type": "markdown",
   "metadata": {},
   "source": [
    "## Vectorial Propagation Channel "
   ]
  },
  {
   "cell_type": "code",
   "execution_count": null,
   "metadata": {
    "collapsed": false
   },
   "outputs": [],
   "source": [
    "vc = S.VC(itx,irx)\n",
    "vc.doadod()"
   ]
  },
  {
   "cell_type": "markdown",
   "metadata": {},
   "source": [
    "## Scalar Propagation Channel "
   ]
  },
  {
   "cell_type": "markdown",
   "metadata": {},
   "source": [
    "### Applying an UWB Waveform \n",
    "\n",
    "The UWB simulation implies the convolution of the radio channel with an applied waveform "
   ]
  },
  {
   "cell_type": "code",
   "execution_count": null,
   "metadata": {
    "collapsed": false
   },
   "outputs": [],
   "source": [
    "S.wav.show2(Tp=520)"
   ]
  },
  {
   "cell_type": "code",
   "execution_count": null,
   "metadata": {
    "collapsed": false
   },
   "outputs": [],
   "source": [
    "itx = 1\n",
    "irx = 18\n",
    "S.pltcir(itx,irx)\n",
    "\n",
    "S.showray(1,18,arange(1,70))\n",
    "\n",
    "\n"
   ]
  },
  {
   "cell_type": "code",
   "execution_count": null,
   "metadata": {
    "collapsed": false
   },
   "outputs": [],
   "source": [
    "itx = 1\n",
    "irx = 134\n",
    "S.pltcir(itx,irx)"
   ]
  },
  {
   "cell_type": "code",
   "execution_count": null,
   "metadata": {
    "collapsed": false
   },
   "outputs": [],
   "source": [
    "itx = 1\n",
    "irx = 250\n",
    "S.showray(itx,irx,arange(1,300))\n"
   ]
  },
  {
   "cell_type": "code",
   "execution_count": null,
   "metadata": {
    "collapsed": false
   },
   "outputs": [],
   "source": [
    "print itx\n",
    "title('PATH LOSS vs distance Tx'+str(itx))\n",
    "xlabel('distance')\n",
    "ylabel('dB')\n",
    "PL=S.PL(itx)   "
   ]
  },
  {
   "cell_type": "code",
   "execution_count": null,
   "metadata": {
    "collapsed": true
   },
   "outputs": [],
   "source": [
    "cira,ciro = S.loadcir(1,1)"
   ]
  },
  {
   "cell_type": "code",
   "execution_count": null,
   "metadata": {
    "collapsed": false
   },
   "outputs": [],
   "source": [
    "cira.plot()\n"
   ]
  },
  {
   "cell_type": "code",
   "execution_count": null,
   "metadata": {
    "collapsed": true
   },
   "outputs": [],
   "source": [
    "CIRA=cira.esd()"
   ]
  },
  {
   "cell_type": "code",
   "execution_count": null,
   "metadata": {
    "collapsed": false
   },
   "outputs": [],
   "source": [
    "CIRA.plot()"
   ]
  }
 ],
 "metadata": {
  "kernelspec": {
   "display_name": "Python 2",
   "language": "python",
   "name": "python2"
  },
  "language_info": {
   "codemirror_mode": {
    "name": "ipython",
    "version": 2
   },
   "file_extension": ".py",
   "mimetype": "text/x-python",
   "name": "python",
   "nbconvert_exporter": "python",
   "pygments_lexer": "ipython2",
   "version": "2.7.10"
  }
 },
 "nbformat": 4,
 "nbformat_minor": 0
}
